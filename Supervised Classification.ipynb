{
 "cells": [
  {
   "cell_type": "markdown",
   "metadata": {},
   "source": [
    "# Supervised classification\n",
    "\n",
    "In the data.csv there are letters (uppercases and lowercases) and numbers, 28x28 pixels in a row format.\n",
    "\n",
    "* First, you need to know which labels are which, meaning you need to visualize some data to realize which number labels represents a letter, or a number."
   ]
  },
  {
   "cell_type": "code",
   "execution_count": 28,
   "metadata": {},
   "outputs": [],
   "source": [
    "# Import libraries\n",
    "import pandas as pd\n",
    "import numpy as np\n",
    "%matplotlib inline\n",
    "\n",
    "import matplotlib.pyplot as plt\n",
    "from sklearn.metrics import classification_report\n",
    "from sklearn.model_selection import cross_val_score\n",
    "from sklearn.model_selection import train_test_split\n",
    "from sklearn.tree import DecisionTreeClassifier\n",
    "from sklearn.metrics import confusion_matrix\n",
    "from sklearn import metrics\n",
    "import matplotlib.cm as cm\n",
    "from sklearn import neighbors, datasets\n",
    "from sklearn.ensemble import RandomForestClassifier\n",
    "from sklearn.svm import LinearSVC\n",
    "from sklearn.multiclass import OneVsOneClassifier"
   ]
  },
  {
   "cell_type": "code",
   "execution_count": 2,
   "metadata": {},
   "outputs": [],
   "source": [
    "# Your code here\n",
    "data = pd.read_csv('data_all/data_all.csv', dtype = 'float')\n",
    "#data = np.loadtxt('data_all/data_all.csv', delimiter=',', dtype = 'str')"
   ]
  },
  {
   "cell_type": "code",
   "execution_count": 3,
   "metadata": {},
   "outputs": [
    {
     "data": {
      "text/plain": [
       "(116322, 785)"
      ]
     },
     "execution_count": 3,
     "metadata": {},
     "output_type": "execute_result"
    }
   ],
   "source": [
    "data.shape"
   ]
  },
  {
   "cell_type": "code",
   "execution_count": 4,
   "metadata": {},
   "outputs": [],
   "source": [
    "image = np.array(data.iloc[2,1:])"
   ]
  },
  {
   "cell_type": "code",
   "execution_count": 5,
   "metadata": {},
   "outputs": [
    {
     "data": {
      "text/plain": [
       "3.0"
      ]
     },
     "execution_count": 5,
     "metadata": {},
     "output_type": "execute_result"
    }
   ],
   "source": [
    "data.iloc[2,0]"
   ]
  },
  {
   "cell_type": "code",
   "execution_count": 6,
   "metadata": {},
   "outputs": [
    {
     "data": {
      "text/plain": [
       "<matplotlib.image.AxesImage at 0x15db75ebe80>"
      ]
     },
     "execution_count": 6,
     "metadata": {},
     "output_type": "execute_result"
    },
    {
     "data": {
      "image/png": "[encoded data removed]",
      "text/plain": [
       "<Figure size 432x288 with 1 Axes>"
      ]
     },
     "metadata": {
      "needs_background": "light"
     },
     "output_type": "display_data"
    }
   ],
   "source": [
    "# Your code here\n",
    "fig, ax = plt.subplots()\n",
    "#ax.imshow(image.reshape(28, 28), cmap=plt.cm.bone, interpolation='nearest') \n",
    "ax.imshow(image.reshape(28, 28), cmap=plt.cm.bone) "
   ]
  },
  {
   "cell_type": "code",
   "execution_count": 7,
   "metadata": {},
   "outputs": [
    {
     "data": {
      "text/plain": [
       "<matplotlib.image.AxesImage at 0x15dbd976700>"
      ]
     },
     "execution_count": 7,
     "metadata": {},
     "output_type": "execute_result"
    },
    {
     "data": {
      "image/png": "[encoded data removed]",
      "text/plain": [
       "<Figure size 432x288 with 1 Axes>"
      ]
     },
     "metadata": {
      "needs_background": "light"
     },
     "output_type": "display_data"
    }
   ],
   "source": [
    "image = np.array(data.iloc[34,1:])\n",
    "fig, ax = plt.subplots()\n",
    "ax.imshow(image.reshape(28, 28), cmap=plt.cm.bone) "
   ]
  },
  {
   "cell_type": "code",
   "execution_count": 8,
   "metadata": {},
   "outputs": [
    {
     "data": {
      "text/plain": [
       "38.0"
      ]
     },
     "execution_count": 8,
     "metadata": {},
     "output_type": "execute_result"
    }
   ],
   "source": [
    "data.iloc[34,0]\n",
    "#data[data['e'] == '38.0']\n",
    "#e translates into the number 0-9, then capital letters, then lower-case letters"
   ]
  },
  {
   "cell_type": "code",
   "execution_count": 38,
   "metadata": {},
   "outputs": [
    {
     "data": {
      "text/plain": [
       "'c'"
      ]
     },
     "execution_count": 38,
     "metadata": {},
     "output_type": "execute_result"
    }
   ],
   "source": [
    "def letter_mapping(e_num):\n",
    "    \"\"\"\n",
    "    Converts number from e_column into corresponding letter or number\n",
    "    :param  e_num from sequence 0-9, then capital letters, then lower-case letters\n",
    "    returns corresponding actual letter\n",
    "    \"\"\"\n",
    "    if e_num < 10:\n",
    "        return str(e_num)\n",
    "    elif e_num < 36:\n",
    "        return chr(int(e_num - 10 + 65))\n",
    "    else:\n",
    "        return chr(int(e_num - 36 + 97))\n",
    "\n",
    "letter_mapping(38)"
   ]
  },
  {
   "cell_type": "markdown",
   "metadata": {},
   "source": [
    "# Uppercase Letters"
   ]
  },
  {
   "cell_type": "markdown",
   "metadata": {},
   "source": [
    "* Now, try to train a classifier model to predict the uppercases. Use every single model you know for classification."
   ]
  },
  {
   "cell_type": "code",
   "execution_count": 10,
   "metadata": {},
   "outputs": [],
   "source": [
    "df_upper_case = data[(data['e'] > 9) & (data['e'] < 36)]\n",
    "\n",
    "X = df_upper_case.drop(columns = ['e'])\n",
    "y = df_upper_case['e']\n",
    "\n",
    "X_train, X_test, y_train, y_test = train_test_split(X, y, test_size = .2)"
   ]
  },
  {
   "cell_type": "code",
   "execution_count": 31,
   "metadata": {},
   "outputs": [
    {
     "data": {
      "text/plain": [
       "KNeighborsClassifier()"
      ]
     },
     "execution_count": 31,
     "metadata": {},
     "output_type": "execute_result"
    }
   ],
   "source": [
    "#num_neighbors = 5\n",
    "classifier = neighbors.KNeighborsClassifier()\n",
    "classifier.fit(X_train,y_train)"
   ]
  },
  {
   "cell_type": "code",
   "execution_count": 32,
   "metadata": {},
   "outputs": [],
   "source": [
    "y_pred_train = classifier.predict(X_train)\n",
    "y_pred_test = classifier.predict(X_test)"
   ]
  },
  {
   "cell_type": "code",
   "execution_count": 34,
   "metadata": {},
   "outputs": [
    {
     "name": "stdout",
     "output_type": "stream",
     "text": [
      "\n",
      "\n",
      "\n",
      "****************************************\n",
      "\n",
      " Classifier performance on Training dataset\n",
      "\n",
      "              precision    recall  f1-score   support\n",
      "\n",
      "           A       0.92      0.93      0.93       846\n",
      "           B       0.99      0.76      0.86       522\n",
      "           C       0.87      0.97      0.92      1379\n",
      "           D       0.94      0.72      0.81       628\n",
      "           E       0.98      0.87      0.92       693\n",
      "           F       0.90      0.89      0.89      1158\n",
      "           G       0.99      0.78      0.87       359\n",
      "           H       0.92      0.86      0.89       416\n",
      "           I       0.84      0.98      0.91      1630\n",
      "           J       0.91      0.82      0.86       497\n",
      "           K       0.95      0.80      0.87       309\n",
      "           L       0.88      0.94      0.91       646\n",
      "           M       0.98      0.96      0.97      1194\n",
      "           N       0.90      0.95      0.93      1064\n",
      "           O       0.90      0.99      0.94      3374\n",
      "           P       0.86      0.92      0.89      1108\n",
      "           Q       0.99      0.57      0.72       328\n",
      "           R       0.97      0.75      0.85       661\n",
      "           S       0.97      0.99      0.98      2770\n",
      "           T       0.91      0.97      0.94      1269\n",
      "           U       0.92      0.94      0.93      1590\n",
      "           V       0.87      0.89      0.88       645\n",
      "           W       0.99      0.87      0.93       642\n",
      "           X       0.97      0.79      0.87       350\n",
      "           Y       0.91      0.82      0.87       633\n",
      "           Z       0.97      0.88      0.93       365\n",
      "\n",
      "    accuracy                           0.92     25076\n",
      "   macro avg       0.93      0.87      0.89     25076\n",
      "weighted avg       0.92      0.92      0.92     25076\n",
      "\n",
      "\n",
      "****************************************\n",
      "\n",
      " Classifier performance on Test dataset\n",
      "\n",
      "              precision    recall  f1-score   support\n",
      "\n",
      "           A       0.89      0.88      0.89       216\n",
      "           B       0.95      0.56      0.71       126\n",
      "           C       0.84      0.96      0.89       360\n",
      "           D       0.95      0.66      0.78       151\n",
      "           E       0.93      0.80      0.86       158\n",
      "           F       0.84      0.83      0.84       282\n",
      "           G       0.97      0.64      0.77        88\n",
      "           H       0.76      0.78      0.77       105\n",
      "           I       0.76      0.96      0.85       417\n",
      "           J       0.85      0.77      0.81       129\n",
      "           K       0.91      0.68      0.78        73\n",
      "           L       0.83      0.89      0.86       164\n",
      "           M       0.97      0.95      0.96       291\n",
      "           N       0.87      0.89      0.88       287\n",
      "           O       0.86      0.98      0.91       782\n",
      "           P       0.83      0.88      0.85       289\n",
      "           Q       0.97      0.34      0.50        85\n",
      "           R       0.92      0.64      0.75       148\n",
      "           S       0.97      0.98      0.97       738\n",
      "           T       0.88      0.98      0.93       307\n",
      "           U       0.89      0.93      0.91       412\n",
      "           V       0.80      0.88      0.84       151\n",
      "           W       0.98      0.80      0.88       164\n",
      "           X       0.97      0.74      0.84        82\n",
      "           Y       0.87      0.76      0.81       165\n",
      "           Z       0.96      0.81      0.88        99\n",
      "\n",
      "    accuracy                           0.88      6269\n",
      "   macro avg       0.89      0.81      0.84      6269\n",
      "weighted avg       0.89      0.88      0.87      6269\n",
      "\n"
     ]
    }
   ],
   "source": [
    "labels = np.sort(y.unique())\n",
    "class_names = list(map(letter_mapping, labels))\n",
    "\n",
    "print('\\n')\n",
    "print('\\n'+\"*\"*40)\n",
    "print('\\n Classifier performance on Training dataset\\n')\n",
    "print(classification_report(y_train, y_pred_train, labels = labels, target_names = class_names))\n",
    "print('\\n'+\"*\"*40)\n",
    "print('\\n Classifier performance on Test dataset\\n')\n",
    "print(classification_report(y_test,y_pred_test, labels = labels, target_names=class_names))"
   ]
  },
  {
   "cell_type": "code",
   "execution_count": 11,
   "metadata": {},
   "outputs": [
    {
     "data": {
      "text/plain": [
       "DecisionTreeClassifier(max_depth=4, random_state=0)"
      ]
     },
     "execution_count": 11,
     "metadata": {},
     "output_type": "execute_result"
    }
   ],
   "source": [
    "params={'random_state':0,'max_depth':4}\n",
    "classifier = DecisionTreeClassifier(**params)\n",
    "classifier.fit(X_train, y_train)"
   ]
  },
  {
   "cell_type": "code",
   "execution_count": 12,
   "metadata": {},
   "outputs": [],
   "source": [
    "y_pred_train = classifier.predict(X_train)\n",
    "y_pred_test = classifier.predict(X_test)"
   ]
  },
  {
   "cell_type": "code",
   "execution_count": 13,
   "metadata": {},
   "outputs": [
    {
     "name": "stdout",
     "output_type": "stream",
     "text": [
      "\n",
      "\n",
      "\n",
      "****************************************\n",
      "\n",
      " Classifier performance on Training dataset\n",
      "\n",
      "              precision    recall  f1-score   support\n",
      "\n",
      "           A       0.32      0.43      0.37       846\n",
      "           B       0.00      0.00      0.00       522\n",
      "           C       0.48      0.61      0.54      1379\n",
      "           D       0.28      0.24      0.26       628\n",
      "           E       0.15      0.43      0.22       693\n",
      "           F       0.42      0.22      0.29      1158\n",
      "           G       0.00      0.00      0.00       359\n",
      "           H       0.00      0.00      0.00       416\n",
      "           I       0.32      0.92      0.48      1630\n",
      "           J       0.00      0.00      0.00       497\n",
      "           K       0.00      0.00      0.00       309\n",
      "           L       0.00      0.00      0.00       646\n",
      "           M       0.50      0.61      0.55      1194\n",
      "           N       0.37      0.65      0.47      1064\n",
      "           O       0.79      0.81      0.80      3374\n",
      "           P       0.00      0.00      0.00      1108\n",
      "           Q       0.00      0.00      0.00       328\n",
      "           R       0.00      0.00      0.00       661\n",
      "           S       0.43      0.74      0.55      2770\n",
      "           T       0.61      0.55      0.58      1269\n",
      "           U       0.50      0.57      0.53      1590\n",
      "           V       0.00      0.00      0.00       645\n",
      "           W       0.00      0.00      0.00       642\n",
      "           X       0.00      0.00      0.00       350\n",
      "           Y       0.00      0.00      0.00       633\n",
      "           Z       0.00      0.00      0.00       365\n",
      "\n",
      "    accuracy                           0.45     25076\n",
      "   macro avg       0.20      0.26      0.22     25076\n",
      "weighted avg       0.35      0.45      0.38     25076\n",
      "\n",
      "\n",
      "****************************************\n",
      "\n",
      " Classifier performance on Test dataset\n",
      "\n",
      "              precision    recall  f1-score   support\n",
      "\n",
      "           A       0.32      0.38      0.35       216\n",
      "           B       0.00      0.00      0.00       126\n",
      "           C       0.51      0.65      0.58       360\n",
      "           D       0.28      0.25      0.26       151\n",
      "           E       0.14      0.42      0.21       158\n",
      "           F       0.36      0.19      0.25       282\n",
      "           G       0.00      0.00      0.00        88\n",
      "           H       0.00      0.00      0.00       105\n",
      "           I       0.31      0.89      0.46       417\n",
      "           J       0.00      0.00      0.00       129\n",
      "           K       0.00      0.00      0.00        73\n",
      "           L       0.00      0.00      0.00       164\n",
      "           M       0.50      0.60      0.55       291\n",
      "           N       0.39      0.61      0.48       287\n",
      "           O       0.78      0.78      0.78       782\n",
      "           P       0.00      0.00      0.00       289\n",
      "           Q       0.00      0.00      0.00        85\n",
      "           R       0.00      0.00      0.00       148\n",
      "           S       0.44      0.73      0.55       738\n",
      "           T       0.60      0.61      0.60       307\n",
      "           U       0.54      0.61      0.57       412\n",
      "           V       0.00      0.00      0.00       151\n",
      "           W       0.00      0.00      0.00       164\n",
      "           X       0.00      0.00      0.00        82\n",
      "           Y       0.00      0.00      0.00       165\n",
      "           Z       0.00      0.00      0.00        99\n",
      "\n",
      "    accuracy                           0.44      6269\n",
      "   macro avg       0.20      0.26      0.22      6269\n",
      "weighted avg       0.34      0.44      0.38      6269\n",
      "\n"
     ]
    },
    {
     "name": "stderr",
     "output_type": "stream",
     "text": [
      "C:\\ProgramData\\Anaconda3\\lib\\site-packages\\sklearn\\metrics\\_classification.py:1221: UndefinedMetricWarning: Precision and F-score are ill-defined and being set to 0.0 in labels with no predicted samples. Use `zero_division` parameter to control this behavior.\n",
      "  _warn_prf(average, modifier, msg_start, len(result))\n"
     ]
    }
   ],
   "source": [
    "print('\\n')\n",
    "print('\\n'+\"*\"*40)\n",
    "print('\\n Classifier performance on Training dataset\\n')\n",
    "print(classification_report(y_train, y_pred_train, labels = labels, target_names = class_names))\n",
    "print('\\n'+\"*\"*40)\n",
    "print('\\n Classifier performance on Test dataset\\n')\n",
    "print(classification_report(y_test,y_pred_test, labels = labels, target_names=class_names))"
   ]
  },
  {
   "cell_type": "code",
   "execution_count": 21,
   "metadata": {},
   "outputs": [],
   "source": [
    "classifier= RandomForestClassifier(n_estimators=100,max_depth=4, random_state=0)\n",
    "classifier.fit(X_train, y_train)\n",
    "y_pred_train = classifier.predict(X_train)\n",
    "y_pred_test = classifier.predict(X_test)"
   ]
  },
  {
   "cell_type": "code",
   "execution_count": 22,
   "metadata": {},
   "outputs": [
    {
     "name": "stdout",
     "output_type": "stream",
     "text": [
      "\n",
      "\n",
      "\n",
      "****************************************\n",
      "\n",
      " Classifier performance on Training dataset\n",
      "\n",
      "              precision    recall  f1-score   support\n",
      "\n",
      "           A       0.68      0.39      0.49       846\n",
      "           B       0.00      0.00      0.00       522\n",
      "           C       0.48      0.78      0.60      1379\n",
      "           D       0.00      0.00      0.00       628\n",
      "           E       0.00      0.00      0.00       693\n",
      "           F       0.61      0.32      0.42      1158\n",
      "           G       0.00      0.00      0.00       359\n",
      "           H       0.00      0.00      0.00       416\n",
      "           I       0.44      0.91      0.59      1630\n",
      "           J       0.00      0.00      0.00       497\n",
      "           K       0.00      0.00      0.00       309\n",
      "           L       0.93      0.04      0.08       646\n",
      "           M       0.65      0.92      0.76      1194\n",
      "           N       0.53      0.58      0.55      1064\n",
      "           O       0.61      0.95      0.74      3374\n",
      "           P       0.64      0.74      0.68      1108\n",
      "           Q       0.00      0.00      0.00       328\n",
      "           R       0.80      0.18      0.30       661\n",
      "           S       0.49      0.88      0.63      2770\n",
      "           T       0.64      0.82      0.72      1269\n",
      "           U       0.57      0.73      0.64      1590\n",
      "           V       0.88      0.18      0.29       645\n",
      "           W       1.00      0.04      0.08       642\n",
      "           X       0.00      0.00      0.00       350\n",
      "           Y       0.00      0.00      0.00       633\n",
      "           Z       0.00      0.00      0.00       365\n",
      "\n",
      "    accuracy                           0.56     25076\n",
      "   macro avg       0.38      0.33      0.29     25076\n",
      "weighted avg       0.49      0.56      0.46     25076\n",
      "\n",
      "\n",
      "****************************************\n",
      "\n",
      " Classifier performance on Test dataset\n",
      "\n",
      "              precision    recall  f1-score   support\n",
      "\n",
      "           A       0.73      0.38      0.50       216\n",
      "           B       0.00      0.00      0.00       126\n",
      "           C       0.52      0.83      0.64       360\n",
      "           D       0.00      0.00      0.00       151\n",
      "           E       0.00      0.00      0.00       158\n",
      "           F       0.60      0.34      0.43       282\n",
      "           G       0.00      0.00      0.00        88\n",
      "           H       0.00      0.00      0.00       105\n",
      "           I       0.41      0.88      0.56       417\n",
      "           J       0.00      0.00      0.00       129\n",
      "           K       0.00      0.00      0.00        73\n",
      "           L       0.86      0.04      0.07       164\n",
      "           M       0.63      0.91      0.74       291\n",
      "           N       0.58      0.57      0.58       287\n",
      "           O       0.61      0.95      0.74       782\n",
      "           P       0.61      0.69      0.65       289\n",
      "           Q       0.00      0.00      0.00        85\n",
      "           R       0.73      0.15      0.25       148\n",
      "           S       0.51      0.86      0.64       738\n",
      "           T       0.63      0.86      0.73       307\n",
      "           U       0.59      0.75      0.66       412\n",
      "           V       0.94      0.21      0.35       151\n",
      "           W       1.00      0.04      0.07       164\n",
      "           X       0.00      0.00      0.00        82\n",
      "           Y       0.00      0.00      0.00       165\n",
      "           Z       0.00      0.00      0.00        99\n",
      "\n",
      "    accuracy                           0.56      6269\n",
      "   macro avg       0.38      0.33      0.29      6269\n",
      "weighted avg       0.49      0.56      0.47      6269\n",
      "\n"
     ]
    },
    {
     "name": "stderr",
     "output_type": "stream",
     "text": [
      "C:\\ProgramData\\Anaconda3\\lib\\site-packages\\sklearn\\metrics\\_classification.py:1221: UndefinedMetricWarning: Precision and F-score are ill-defined and being set to 0.0 in labels with no predicted samples. Use `zero_division` parameter to control this behavior.\n",
      "  _warn_prf(average, modifier, msg_start, len(result))\n"
     ]
    }
   ],
   "source": [
    "# Your code here\n",
    "print('\\n')\n",
    "print('\\n'+\"*\"*40)\n",
    "print('\\n Classifier performance on Training dataset\\n')\n",
    "print(classification_report(y_train, y_pred_train, labels = labels, target_names = class_names))\n",
    "print('\\n'+\"*\"*40)\n",
    "print('\\n Classifier performance on Test dataset\\n')\n",
    "print(classification_report(y_test,y_pred_test, labels = labels, target_names=class_names))"
   ]
  },
  {
   "cell_type": "code",
   "execution_count": 29,
   "metadata": {},
   "outputs": [
    {
     "name": "stderr",
     "output_type": "stream",
     "text": [
      "C:\\ProgramData\\Anaconda3\\lib\\site-packages\\sklearn\\svm\\_base.py:976: ConvergenceWarning: Liblinear failed to converge, increase the number of iterations.\n",
      "  warnings.warn(\"Liblinear failed to converge, increase \"\n",
      "C:\\ProgramData\\Anaconda3\\lib\\site-packages\\sklearn\\svm\\_base.py:976: ConvergenceWarning: Liblinear failed to converge, increase the number of iterations.\n",
      "  warnings.warn(\"Liblinear failed to converge, increase \"\n",
      "C:\\ProgramData\\Anaconda3\\lib\\site-packages\\sklearn\\svm\\_base.py:976: ConvergenceWarning: Liblinear failed to converge, increase the number of iterations.\n",
      "  warnings.warn(\"Liblinear failed to converge, increase \"\n",
      "C:\\ProgramData\\Anaconda3\\lib\\site-packages\\sklearn\\svm\\_base.py:976: ConvergenceWarning: Liblinear failed to converge, increase the number of iterations.\n",
      "  warnings.warn(\"Liblinear failed to converge, increase \"\n",
      "C:\\ProgramData\\Anaconda3\\lib\\site-packages\\sklearn\\svm\\_base.py:976: ConvergenceWarning: Liblinear failed to converge, increase the number of iterations.\n",
      "  warnings.warn(\"Liblinear failed to converge, increase \"\n",
      "C:\\ProgramData\\Anaconda3\\lib\\site-packages\\sklearn\\svm\\_base.py:976: ConvergenceWarning: Liblinear failed to converge, increase the number of iterations.\n",
      "  warnings.warn(\"Liblinear failed to converge, increase \"\n",
      "C:\\ProgramData\\Anaconda3\\lib\\site-packages\\sklearn\\svm\\_base.py:976: ConvergenceWarning: Liblinear failed to converge, increase the number of iterations.\n",
      "  warnings.warn(\"Liblinear failed to converge, increase \"\n",
      "C:\\ProgramData\\Anaconda3\\lib\\site-packages\\sklearn\\svm\\_base.py:976: ConvergenceWarning: Liblinear failed to converge, increase the number of iterations.\n",
      "  warnings.warn(\"Liblinear failed to converge, increase \"\n",
      "C:\\ProgramData\\Anaconda3\\lib\\site-packages\\sklearn\\svm\\_base.py:976: ConvergenceWarning: Liblinear failed to converge, increase the number of iterations.\n",
      "  warnings.warn(\"Liblinear failed to converge, increase \"\n",
      "C:\\ProgramData\\Anaconda3\\lib\\site-packages\\sklearn\\svm\\_base.py:976: ConvergenceWarning: Liblinear failed to converge, increase the number of iterations.\n",
      "  warnings.warn(\"Liblinear failed to converge, increase \"\n",
      "C:\\ProgramData\\Anaconda3\\lib\\site-packages\\sklearn\\svm\\_base.py:976: ConvergenceWarning: Liblinear failed to converge, increase the number of iterations.\n",
      "  warnings.warn(\"Liblinear failed to converge, increase \"\n",
      "C:\\ProgramData\\Anaconda3\\lib\\site-packages\\sklearn\\svm\\_base.py:976: ConvergenceWarning: Liblinear failed to converge, increase the number of iterations.\n",
      "  warnings.warn(\"Liblinear failed to converge, increase \"\n",
      "C:\\ProgramData\\Anaconda3\\lib\\site-packages\\sklearn\\svm\\_base.py:976: ConvergenceWarning: Liblinear failed to converge, increase the number of iterations.\n",
      "  warnings.warn(\"Liblinear failed to converge, increase \"\n",
      "C:\\ProgramData\\Anaconda3\\lib\\site-packages\\sklearn\\svm\\_base.py:976: ConvergenceWarning: Liblinear failed to converge, increase the number of iterations.\n",
      "  warnings.warn(\"Liblinear failed to converge, increase \"\n",
      "C:\\ProgramData\\Anaconda3\\lib\\site-packages\\sklearn\\svm\\_base.py:976: ConvergenceWarning: Liblinear failed to converge, increase the number of iterations.\n",
      "  warnings.warn(\"Liblinear failed to converge, increase \"\n",
      "C:\\ProgramData\\Anaconda3\\lib\\site-packages\\sklearn\\svm\\_base.py:976: ConvergenceWarning: Liblinear failed to converge, increase the number of iterations.\n",
      "  warnings.warn(\"Liblinear failed to converge, increase \"\n",
      "C:\\ProgramData\\Anaconda3\\lib\\site-packages\\sklearn\\svm\\_base.py:976: ConvergenceWarning: Liblinear failed to converge, increase the number of iterations.\n",
      "  warnings.warn(\"Liblinear failed to converge, increase \"\n",
      "C:\\ProgramData\\Anaconda3\\lib\\site-packages\\sklearn\\svm\\_base.py:976: ConvergenceWarning: Liblinear failed to converge, increase the number of iterations.\n",
      "  warnings.warn(\"Liblinear failed to converge, increase \"\n",
      "C:\\ProgramData\\Anaconda3\\lib\\site-packages\\sklearn\\svm\\_base.py:976: ConvergenceWarning: Liblinear failed to converge, increase the number of iterations.\n",
      "  warnings.warn(\"Liblinear failed to converge, increase \"\n",
      "C:\\ProgramData\\Anaconda3\\lib\\site-packages\\sklearn\\svm\\_base.py:976: ConvergenceWarning: Liblinear failed to converge, increase the number of iterations.\n",
      "  warnings.warn(\"Liblinear failed to converge, increase \"\n",
      "C:\\ProgramData\\Anaconda3\\lib\\site-packages\\sklearn\\svm\\_base.py:976: ConvergenceWarning: Liblinear failed to converge, increase the number of iterations.\n",
      "  warnings.warn(\"Liblinear failed to converge, increase \"\n",
      "C:\\ProgramData\\Anaconda3\\lib\\site-packages\\sklearn\\svm\\_base.py:976: ConvergenceWarning: Liblinear failed to converge, increase the number of iterations.\n",
      "  warnings.warn(\"Liblinear failed to converge, increase \"\n",
      "C:\\ProgramData\\Anaconda3\\lib\\site-packages\\sklearn\\svm\\_base.py:976: ConvergenceWarning: Liblinear failed to converge, increase the number of iterations.\n",
      "  warnings.warn(\"Liblinear failed to converge, increase \"\n",
      "C:\\ProgramData\\Anaconda3\\lib\\site-packages\\sklearn\\svm\\_base.py:976: ConvergenceWarning: Liblinear failed to converge, increase the number of iterations.\n",
      "  warnings.warn(\"Liblinear failed to converge, increase \"\n",
      "C:\\ProgramData\\Anaconda3\\lib\\site-packages\\sklearn\\svm\\_base.py:976: ConvergenceWarning: Liblinear failed to converge, increase the number of iterations.\n",
      "  warnings.warn(\"Liblinear failed to converge, increase \"\n",
      "C:\\ProgramData\\Anaconda3\\lib\\site-packages\\sklearn\\svm\\_base.py:976: ConvergenceWarning: Liblinear failed to converge, increase the number of iterations.\n",
      "  warnings.warn(\"Liblinear failed to converge, increase \"\n",
      "C:\\ProgramData\\Anaconda3\\lib\\site-packages\\sklearn\\svm\\_base.py:976: ConvergenceWarning: Liblinear failed to converge, increase the number of iterations.\n",
      "  warnings.warn(\"Liblinear failed to converge, increase \"\n",
      "C:\\ProgramData\\Anaconda3\\lib\\site-packages\\sklearn\\svm\\_base.py:976: ConvergenceWarning: Liblinear failed to converge, increase the number of iterations.\n",
      "  warnings.warn(\"Liblinear failed to converge, increase \"\n",
      "C:\\ProgramData\\Anaconda3\\lib\\site-packages\\sklearn\\svm\\_base.py:976: ConvergenceWarning: Liblinear failed to converge, increase the number of iterations.\n",
      "  warnings.warn(\"Liblinear failed to converge, increase \"\n",
      "C:\\ProgramData\\Anaconda3\\lib\\site-packages\\sklearn\\svm\\_base.py:976: ConvergenceWarning: Liblinear failed to converge, increase the number of iterations.\n",
      "  warnings.warn(\"Liblinear failed to converge, increase \"\n",
      "C:\\ProgramData\\Anaconda3\\lib\\site-packages\\sklearn\\svm\\_base.py:976: ConvergenceWarning: Liblinear failed to converge, increase the number of iterations.\n",
      "  warnings.warn(\"Liblinear failed to converge, increase \"\n",
      "C:\\ProgramData\\Anaconda3\\lib\\site-packages\\sklearn\\svm\\_base.py:976: ConvergenceWarning: Liblinear failed to converge, increase the number of iterations.\n",
      "  warnings.warn(\"Liblinear failed to converge, increase \"\n",
      "C:\\ProgramData\\Anaconda3\\lib\\site-packages\\sklearn\\svm\\_base.py:976: ConvergenceWarning: Liblinear failed to converge, increase the number of iterations.\n",
      "  warnings.warn(\"Liblinear failed to converge, increase \"\n",
      "C:\\ProgramData\\Anaconda3\\lib\\site-packages\\sklearn\\svm\\_base.py:976: ConvergenceWarning: Liblinear failed to converge, increase the number of iterations.\n",
      "  warnings.warn(\"Liblinear failed to converge, increase \"\n",
      "C:\\ProgramData\\Anaconda3\\lib\\site-packages\\sklearn\\svm\\_base.py:976: ConvergenceWarning: Liblinear failed to converge, increase the number of iterations.\n",
      "  warnings.warn(\"Liblinear failed to converge, increase \"\n",
      "C:\\ProgramData\\Anaconda3\\lib\\site-packages\\sklearn\\svm\\_base.py:976: ConvergenceWarning: Liblinear failed to converge, increase the number of iterations.\n",
      "  warnings.warn(\"Liblinear failed to converge, increase \"\n",
      "C:\\ProgramData\\Anaconda3\\lib\\site-packages\\sklearn\\svm\\_base.py:976: ConvergenceWarning: Liblinear failed to converge, increase the number of iterations.\n",
      "  warnings.warn(\"Liblinear failed to converge, increase \"\n",
      "C:\\ProgramData\\Anaconda3\\lib\\site-packages\\sklearn\\svm\\_base.py:976: ConvergenceWarning: Liblinear failed to converge, increase the number of iterations.\n",
      "  warnings.warn(\"Liblinear failed to converge, increase \"\n",
      "C:\\ProgramData\\Anaconda3\\lib\\site-packages\\sklearn\\svm\\_base.py:976: ConvergenceWarning: Liblinear failed to converge, increase the number of iterations.\n",
      "  warnings.warn(\"Liblinear failed to converge, increase \"\n"
     ]
    },
    {
     "name": "stderr",
     "output_type": "stream",
     "text": [
      "C:\\ProgramData\\Anaconda3\\lib\\site-packages\\sklearn\\svm\\_base.py:976: ConvergenceWarning: Liblinear failed to converge, increase the number of iterations.\n",
      "  warnings.warn(\"Liblinear failed to converge, increase \"\n",
      "C:\\ProgramData\\Anaconda3\\lib\\site-packages\\sklearn\\svm\\_base.py:976: ConvergenceWarning: Liblinear failed to converge, increase the number of iterations.\n",
      "  warnings.warn(\"Liblinear failed to converge, increase \"\n"
     ]
    }
   ],
   "source": [
    "classifier = OneVsOneClassifier(LinearSVC(random_state=0,max_iter=4000))\n",
    "classifier.fit(X_train,y_train)\n",
    "y_pred_train = classifier.predict(X_train)\n",
    "y_pred_test = classifier.predict(X_test)"
   ]
  },
  {
   "cell_type": "code",
   "execution_count": 30,
   "metadata": {},
   "outputs": [
    {
     "name": "stdout",
     "output_type": "stream",
     "text": [
      "\n",
      "\n",
      "\n",
      "****************************************\n",
      "\n",
      " Classifier performance on Training dataset\n",
      "\n",
      "              precision    recall  f1-score   support\n",
      "\n",
      "           A       1.00      1.00      1.00       846\n",
      "           B       1.00      1.00      1.00       522\n",
      "           C       1.00      1.00      1.00      1379\n",
      "           D       1.00      1.00      1.00       628\n",
      "           E       1.00      1.00      1.00       693\n",
      "           F       0.99      1.00      1.00      1158\n",
      "           G       1.00      1.00      1.00       359\n",
      "           H       1.00      1.00      1.00       416\n",
      "           I       1.00      1.00      1.00      1630\n",
      "           J       0.99      1.00      1.00       497\n",
      "           K       1.00      1.00      1.00       309\n",
      "           L       1.00      1.00      1.00       646\n",
      "           M       1.00      1.00      1.00      1194\n",
      "           N       1.00      1.00      1.00      1064\n",
      "           O       1.00      1.00      1.00      3374\n",
      "           P       1.00      0.99      1.00      1108\n",
      "           Q       1.00      1.00      1.00       328\n",
      "           R       1.00      1.00      1.00       661\n",
      "           S       1.00      1.00      1.00      2770\n",
      "           T       1.00      1.00      1.00      1269\n",
      "           U       1.00      1.00      1.00      1590\n",
      "           V       1.00      1.00      1.00       645\n",
      "           W       1.00      1.00      1.00       642\n",
      "           X       1.00      0.99      1.00       350\n",
      "           Y       1.00      1.00      1.00       633\n",
      "           Z       1.00      1.00      1.00       365\n",
      "\n",
      "    accuracy                           1.00     25076\n",
      "   macro avg       1.00      1.00      1.00     25076\n",
      "weighted avg       1.00      1.00      1.00     25076\n",
      "\n",
      "\n",
      "****************************************\n",
      "\n",
      " Classifier performance on Test dataset\n",
      "\n",
      "              precision    recall  f1-score   support\n",
      "\n",
      "           A       0.75      0.75      0.75       216\n",
      "           B       0.74      0.77      0.75       126\n",
      "           C       0.84      0.85      0.85       360\n",
      "           D       0.80      0.77      0.78       151\n",
      "           E       0.76      0.72      0.74       158\n",
      "           F       0.70      0.80      0.75       282\n",
      "           G       0.77      0.69      0.73        88\n",
      "           H       0.74      0.63      0.68       105\n",
      "           I       0.86      0.90      0.88       417\n",
      "           J       0.67      0.71      0.69       129\n",
      "           K       0.73      0.60      0.66        73\n",
      "           L       0.92      0.91      0.92       164\n",
      "           M       0.90      0.88      0.89       291\n",
      "           N       0.79      0.77      0.78       287\n",
      "           O       0.93      0.92      0.92       782\n",
      "           P       0.87      0.81      0.84       289\n",
      "           Q       0.71      0.62      0.66        85\n",
      "           R       0.69      0.66      0.67       148\n",
      "           S       0.91      0.91      0.91       738\n",
      "           T       0.89      0.96      0.92       307\n",
      "           U       0.81      0.86      0.83       412\n",
      "           V       0.71      0.76      0.74       151\n",
      "           W       0.86      0.77      0.81       164\n",
      "           X       0.81      0.62      0.70        82\n",
      "           Y       0.72      0.76      0.74       165\n",
      "           Z       0.81      0.77      0.79        99\n",
      "\n",
      "    accuracy                           0.83      6269\n",
      "   macro avg       0.80      0.78      0.78      6269\n",
      "weighted avg       0.83      0.83      0.83      6269\n",
      "\n"
     ]
    }
   ],
   "source": [
    "# Your code here\n",
    "print('\\n')\n",
    "print('\\n'+\"*\"*40)\n",
    "print('\\n Classifier performance on Training dataset\\n')\n",
    "print(classification_report(y_train, y_pred_train, labels = labels, target_names = class_names))\n",
    "print('\\n'+\"*\"*40)\n",
    "print('\\n Classifier performance on Test dataset\\n')\n",
    "print(classification_report(y_test,y_pred_test, labels = labels, target_names=class_names))"
   ]
  },
  {
   "cell_type": "markdown",
   "metadata": {},
   "source": [
    "# Lowercase Letters"
   ]
  },
  {
   "cell_type": "markdown",
   "metadata": {},
   "source": [
    "* Try to do the same thing with lowercases."
   ]
  },
  {
   "cell_type": "code",
   "execution_count": 40,
   "metadata": {},
   "outputs": [],
   "source": [
    "df_lower_case = data[data['e'] > 35]\n",
    "\n",
    "X = df_lower_case.drop(columns = ['e'])\n",
    "y = df_lower_case['e']\n",
    "\n",
    "X_train, X_test, y_train, y_test = train_test_split(X, y, test_size = .2)\n",
    "\n",
    "labels = np.sort(y.unique())"
   ]
  },
  {
   "cell_type": "code",
   "execution_count": 59,
   "metadata": {},
   "outputs": [],
   "source": [
    "from sklearn.utils.testing import ignore_warnings\n",
    "from sklearn.exceptions import ConvergenceWarning\n",
    "\n",
    "def print_classification_report(y_true, y_pred, labels, desc):\n",
    "    \"\"\"\n",
    "    Print classification report\n",
    "    returns None\n",
    "    \"\"\"\n",
    "    class_names = list(map(letter_mapping, labels))\n",
    "    print('\\n'+\"*\"*40)\n",
    "    print(f'\\n Classifier performance on {desc} dataset\\n')\n",
    "    report = classification_report(y_true, y_pred, labels = labels, target_names = class_names)\n",
    "    print(report)\n",
    "    \n",
    "# Convergence warning is taking up too much space in my output, so I'm ignoring it now\n",
    "@ignore_warnings(category = ConvergenceWarning)\n",
    "def run_classifier(classifier_func, X_train, X_test, y_train, y_test, labels):\n",
    "    \"\"\"\n",
    "    Takes classifier function, gets predictions for train/test sets and prints reports\n",
    "    by calling an additional function.\n",
    "    \n",
    "    returns None\n",
    "    \"\"\"\n",
    "    classifier_func.fit(X_train,y_train)\n",
    "    \n",
    "    y_pred_train = classifier_func.predict(X_train)\n",
    "    print_classification_report(y_train, y_pred_train, labels, \"Training\")\n",
    "    \n",
    "    y_pred_test = classifier_func.predict(X_test)\n",
    "    print_classification_report(y_test, y_pred_test, labels, \"Testing\")"
   ]
  },
  {
   "cell_type": "code",
   "execution_count": 53,
   "metadata": {},
   "outputs": [
    {
     "name": "stdout",
     "output_type": "stream",
     "text": [
      "\n",
      "****************************************\n",
      "\n",
      " Classifier performance on Training dataset\n",
      "\n",
      "              precision    recall  f1-score   support\n",
      "\n",
      "           a       0.88      0.92      0.90      1331\n",
      "           b       0.95      0.90      0.92       689\n",
      "           c       0.87      0.83      0.85       354\n",
      "           d       0.96      0.94      0.95      1324\n",
      "           e       0.95      0.99      0.97      3255\n",
      "           f       0.95      0.66      0.78       321\n",
      "           g       0.86      0.63      0.73       473\n",
      "           h       0.90      0.92      0.91      1178\n",
      "           i       0.71      0.47      0.57       342\n",
      "           j       0.87      0.78      0.82       261\n",
      "           k       0.96      0.72      0.82       371\n",
      "           l       0.78      0.98      0.87      2001\n",
      "           m       0.98      0.94      0.96       368\n",
      "           n       0.93      0.96      0.94      1524\n",
      "           o       0.85      0.93      0.89       366\n",
      "           p       0.89      0.84      0.86       304\n",
      "           q       0.78      0.67      0.72       404\n",
      "           r       0.91      0.97      0.94      1840\n",
      "           s       0.94      0.91      0.92       339\n",
      "           t       0.94      0.90      0.92      2401\n",
      "           u       0.88      0.85      0.87       387\n",
      "           v       0.82      0.87      0.85       374\n",
      "           w       0.97      0.93      0.95       391\n",
      "           x       0.95      0.83      0.89       381\n",
      "           y       0.88      0.69      0.77       303\n",
      "           z       0.98      0.85      0.91       365\n",
      "\n",
      "    accuracy                           0.90     21647\n",
      "   macro avg       0.90      0.84      0.86     21647\n",
      "weighted avg       0.91      0.90      0.90     21647\n",
      "\n",
      "\n",
      "****************************************\n",
      "\n",
      " Classifier performance on Testing dataset\n",
      "\n",
      "              precision    recall  f1-score   support\n",
      "\n",
      "           a       0.84      0.84      0.84       313\n",
      "           b       0.92      0.80      0.85       164\n",
      "           c       0.79      0.71      0.74        78\n",
      "           d       0.93      0.91      0.92       359\n",
      "           e       0.93      0.98      0.96       837\n",
      "           f       0.87      0.42      0.56        79\n",
      "           g       0.75      0.41      0.53       116\n",
      "           h       0.86      0.88      0.87       301\n",
      "           i       0.52      0.34      0.41        85\n",
      "           j       0.67      0.68      0.67        56\n",
      "           k       0.96      0.53      0.68        95\n",
      "           l       0.73      0.96      0.83       534\n",
      "           m       0.92      0.88      0.90        96\n",
      "           n       0.89      0.93      0.91       374\n",
      "           o       0.81      0.91      0.85       100\n",
      "           p       0.82      0.78      0.80        64\n",
      "           q       0.64      0.55      0.59       101\n",
      "           r       0.87      0.95      0.91       480\n",
      "           s       0.94      0.92      0.93        98\n",
      "           t       0.92      0.84      0.88       564\n",
      "           u       0.85      0.77      0.81        95\n",
      "           v       0.79      0.94      0.86        94\n",
      "           w       0.91      0.97      0.94        76\n",
      "           x       0.88      0.75      0.81        89\n",
      "           y       0.91      0.64      0.75        78\n",
      "           z       0.95      0.91      0.93        86\n",
      "\n",
      "    accuracy                           0.86      5412\n",
      "   macro avg       0.84      0.78      0.80      5412\n",
      "weighted avg       0.86      0.86      0.85      5412\n",
      "\n"
     ]
    }
   ],
   "source": [
    "# K neighbor\n",
    "classifier = neighbors.KNeighborsClassifier()\n",
    "run_classifier(classifier, X_train, X_test, y_train, y_test, labels)"
   ]
  },
  {
   "cell_type": "code",
   "execution_count": 52,
   "metadata": {},
   "outputs": [
    {
     "name": "stdout",
     "output_type": "stream",
     "text": [
      "\n",
      "****************************************\n",
      "\n",
      " Classifier performance on Training dataset\n",
      "\n",
      "              precision    recall  f1-score   support\n",
      "\n",
      "           a       1.00      0.99      0.99      1331\n",
      "           b       1.00      1.00      1.00       689\n",
      "           c       1.00      1.00      1.00       354\n",
      "           d       1.00      1.00      1.00      1324\n",
      "           e       0.99      1.00      1.00      3255\n",
      "           f       0.99      1.00      1.00       321\n",
      "           g       0.99      1.00      0.99       473\n",
      "           h       1.00      1.00      1.00      1178\n",
      "           i       0.92      0.52      0.66       342\n",
      "           j       1.00      1.00      1.00       261\n",
      "           k       0.99      1.00      0.99       371\n",
      "           l       0.93      0.99      0.96      2001\n",
      "           m       1.00      1.00      1.00       368\n",
      "           n       1.00      1.00      1.00      1524\n",
      "           o       1.00      1.00      1.00       366\n",
      "           p       1.00      1.00      1.00       304\n",
      "           q       1.00      0.99      1.00       404\n",
      "           r       1.00      0.99      0.99      1840\n",
      "           s       1.00      1.00      1.00       339\n",
      "           t       0.99      1.00      0.99      2401\n",
      "           u       0.99      1.00      1.00       387\n",
      "           v       1.00      1.00      1.00       374\n",
      "           w       1.00      1.00      1.00       391\n",
      "           x       0.99      0.99      0.99       381\n",
      "           y       1.00      1.00      1.00       303\n",
      "           z       1.00      1.00      1.00       365\n",
      "\n",
      "    accuracy                           0.99     21647\n",
      "   macro avg       0.99      0.98      0.98     21647\n",
      "weighted avg       0.99      0.99      0.99     21647\n",
      "\n",
      "\n",
      "****************************************\n",
      "\n",
      " Classifier performance on Testing dataset\n",
      "\n",
      "              precision    recall  f1-score   support\n",
      "\n",
      "           a       0.76      0.75      0.76       313\n",
      "           b       0.86      0.76      0.81       164\n",
      "           c       0.64      0.72      0.68        78\n",
      "           d       0.87      0.90      0.88       359\n",
      "           e       0.90      0.89      0.89       837\n",
      "           f       0.70      0.65      0.67        79\n",
      "           g       0.51      0.47      0.49       116\n",
      "           h       0.78      0.84      0.81       301\n",
      "           i       0.43      0.28      0.34        85\n",
      "           j       0.56      0.68      0.61        56\n",
      "           k       0.70      0.55      0.62        95\n",
      "           l       0.83      0.90      0.86       534\n",
      "           m       0.90      0.73      0.80        96\n",
      "           n       0.81      0.85      0.83       374\n",
      "           o       0.84      0.78      0.81       100\n",
      "           p       0.72      0.69      0.70        64\n",
      "           q       0.49      0.41      0.44       101\n",
      "           r       0.88      0.89      0.88       480\n",
      "           s       0.86      0.76      0.80        98\n",
      "           t       0.77      0.80      0.78       564\n",
      "           u       0.84      0.78      0.81        95\n",
      "           v       0.76      0.83      0.79        94\n",
      "           w       0.85      0.96      0.90        76\n",
      "           x       0.62      0.53      0.57        89\n",
      "           y       0.58      0.69      0.63        78\n",
      "           z       0.76      0.72      0.74        86\n",
      "\n",
      "    accuracy                           0.80      5412\n",
      "   macro avg       0.74      0.72      0.73      5412\n",
      "weighted avg       0.80      0.80      0.80      5412\n",
      "\n"
     ]
    }
   ],
   "source": [
    "# OnevsOne\n",
    "classifier = OneVsOneClassifier(LinearSVC(random_state=0,max_iter=4000))\n",
    "run_classifier(classifier, X_train, X_test, y_train, y_test, labels)"
   ]
  },
  {
   "cell_type": "code",
   "execution_count": 49,
   "metadata": {},
   "outputs": [
    {
     "name": "stdout",
     "output_type": "stream",
     "text": [
      "\n",
      "\n",
      "\n",
      "****************************************\n",
      "\n",
      " Classifier performance on Training dataset\n",
      "\n",
      "              precision    recall  f1-score   support\n",
      "\n",
      "           a       0.50      0.42      0.46      1331\n",
      "           b       0.81      0.33      0.47       689\n",
      "           c       0.00      0.00      0.00       354\n",
      "           d       0.61      0.78      0.68      1324\n",
      "           e       0.51      0.93      0.66      3255\n",
      "           f       0.00      0.00      0.00       321\n",
      "           g       0.00      0.00      0.00       473\n",
      "           h       0.54      0.66      0.59      1178\n",
      "           i       0.00      0.00      0.00       342\n",
      "           j       0.00      0.00      0.00       261\n",
      "           k       0.00      0.00      0.00       371\n",
      "           l       0.61      0.94      0.74      2001\n",
      "           m       1.00      0.01      0.02       368\n",
      "           n       0.66      0.83      0.74      1524\n",
      "           o       0.00      0.00      0.00       366\n",
      "           p       0.00      0.00      0.00       304\n",
      "           q       0.00      0.00      0.00       404\n",
      "           r       0.63      0.88      0.73      1840\n",
      "           s       0.88      0.04      0.08       339\n",
      "           t       0.51      0.75      0.61      2401\n",
      "           u       0.00      0.00      0.00       387\n",
      "           v       0.00      0.00      0.00       374\n",
      "           w       1.00      0.05      0.09       391\n",
      "           x       0.00      0.00      0.00       381\n",
      "           y       0.00      0.00      0.00       303\n",
      "           z       0.00      0.00      0.00       365\n",
      "\n",
      "    accuracy                           0.57     21647\n",
      "   macro avg       0.32      0.25      0.23     21647\n",
      "weighted avg       0.46      0.57      0.47     21647\n",
      "\n"
     ]
    },
    {
     "name": "stderr",
     "output_type": "stream",
     "text": [
      "C:\\ProgramData\\Anaconda3\\lib\\site-packages\\sklearn\\metrics\\_classification.py:1221: UndefinedMetricWarning: Precision and F-score are ill-defined and being set to 0.0 in labels with no predicted samples. Use `zero_division` parameter to control this behavior.\n",
      "  _warn_prf(average, modifier, msg_start, len(result))\n"
     ]
    },
    {
     "name": "stdout",
     "output_type": "stream",
     "text": [
      "\n",
      "\n",
      "\n",
      "****************************************\n",
      "\n",
      " Classifier performance on Testing dataset\n",
      "\n",
      "              precision    recall  f1-score   support\n",
      "\n",
      "           a       0.49      0.36      0.42       313\n",
      "           b       0.72      0.31      0.43       164\n",
      "           c       0.00      0.00      0.00        78\n",
      "           d       0.62      0.76      0.68       359\n",
      "           e       0.51      0.95      0.66       837\n",
      "           f       0.00      0.00      0.00        79\n",
      "           g       0.00      0.00      0.00       116\n",
      "           h       0.56      0.62      0.59       301\n",
      "           i       0.00      0.00      0.00        85\n",
      "           j       0.00      0.00      0.00        56\n",
      "           k       0.00      0.00      0.00        95\n",
      "           l       0.62      0.94      0.75       534\n",
      "           m       1.00      0.02      0.04        96\n",
      "           n       0.63      0.78      0.70       374\n",
      "           o       0.00      0.00      0.00       100\n",
      "           p       0.00      0.00      0.00        64\n",
      "           q       0.00      0.00      0.00       101\n",
      "           r       0.64      0.88      0.74       480\n",
      "           s       1.00      0.03      0.06        98\n",
      "           t       0.50      0.76      0.60       564\n",
      "           u       0.00      0.00      0.00        95\n",
      "           v       0.00      0.00      0.00        94\n",
      "           w       1.00      0.01      0.03        76\n",
      "           x       0.00      0.00      0.00        89\n",
      "           y       0.00      0.00      0.00        78\n",
      "           z       0.00      0.00      0.00        86\n",
      "\n",
      "    accuracy                           0.57      5412\n",
      "   macro avg       0.32      0.25      0.22      5412\n",
      "weighted avg       0.47      0.57      0.47      5412\n",
      "\n"
     ]
    },
    {
     "name": "stderr",
     "output_type": "stream",
     "text": [
      "C:\\ProgramData\\Anaconda3\\lib\\site-packages\\sklearn\\metrics\\_classification.py:1221: UndefinedMetricWarning: Precision and F-score are ill-defined and being set to 0.0 in labels with no predicted samples. Use `zero_division` parameter to control this behavior.\n",
      "  _warn_prf(average, modifier, msg_start, len(result))\n"
     ]
    }
   ],
   "source": [
    "# Random Forest\n",
    "classifier= RandomForestClassifier(n_estimators=100,max_depth=4, random_state=0)\n",
    "run_classifier(classifier, X_train, X_test, y_train, y_test, labels)"
   ]
  },
  {
   "cell_type": "code",
   "execution_count": 51,
   "metadata": {},
   "outputs": [
    {
     "name": "stdout",
     "output_type": "stream",
     "text": [
      "\n",
      "****************************************\n",
      "\n",
      " Classifier performance on Training dataset\n",
      "\n",
      "              precision    recall  f1-score   support\n",
      "\n",
      "           a       0.39      0.70      0.50      1331\n",
      "           b       0.25      0.45      0.32       689\n",
      "           c       0.00      0.00      0.00       354\n",
      "           d       0.35      0.67      0.46      1324\n",
      "           e       0.67      0.84      0.75      3255\n",
      "           f       0.00      0.00      0.00       321\n",
      "           g       0.00      0.00      0.00       473\n",
      "           h       0.62      0.58      0.60      1178\n",
      "           i       0.00      0.00      0.00       342\n",
      "           j       0.00      0.00      0.00       261\n",
      "           k       0.00      0.00      0.00       371\n",
      "           l       0.67      0.86      0.75      2001\n",
      "           m       0.00      0.00      0.00       368\n",
      "           n       0.79      0.66      0.72      1524\n",
      "           o       0.00      0.00      0.00       366\n",
      "           p       0.00      0.00      0.00       304\n",
      "           q       0.00      0.00      0.00       404\n",
      "           r       0.62      0.83      0.71      1840\n",
      "           s       0.00      0.00      0.00       339\n",
      "           t       0.47      0.59      0.53      2401\n",
      "           u       0.00      0.00      0.00       387\n",
      "           v       0.00      0.00      0.00       374\n",
      "           w       0.00      0.00      0.00       391\n",
      "           x       0.18      0.47      0.26       381\n",
      "           y       0.00      0.00      0.00       303\n",
      "           z       0.00      0.00      0.00       365\n",
      "\n",
      "    accuracy                           0.53     21647\n",
      "   macro avg       0.19      0.26      0.21     21647\n",
      "weighted avg       0.41      0.53      0.46     21647\n",
      "\n",
      "\n",
      "****************************************\n",
      "\n",
      " Classifier performance on Testing dataset\n",
      "\n",
      "              precision    recall  f1-score   support\n",
      "\n",
      "           a       0.38      0.65      0.48       313\n",
      "           b       0.21      0.43      0.28       164\n",
      "           c       0.00      0.00      0.00        78\n",
      "           d       0.38      0.67      0.48       359\n",
      "           e       0.69      0.86      0.77       837\n",
      "           f       0.00      0.00      0.00        79\n",
      "           g       0.00      0.00      0.00       116\n",
      "           h       0.58      0.55      0.57       301\n",
      "           i       0.00      0.00      0.00        85\n",
      "           j       0.00      0.00      0.00        56\n",
      "           k       0.00      0.00      0.00        95\n",
      "           l       0.69      0.88      0.77       534\n",
      "           m       0.00      0.00      0.00        96\n",
      "           n       0.78      0.62      0.69       374\n",
      "           o       0.00      0.00      0.00       100\n",
      "           p       0.00      0.00      0.00        64\n",
      "           q       0.00      0.00      0.00       101\n",
      "           r       0.63      0.84      0.72       480\n",
      "           s       0.00      0.00      0.00        98\n",
      "           t       0.47      0.60      0.52       564\n",
      "           u       0.00      0.00      0.00        95\n",
      "           v       0.00      0.00      0.00        94\n",
      "           w       0.00      0.00      0.00        76\n",
      "           x       0.17      0.44      0.24        89\n",
      "           y       0.00      0.00      0.00        78\n",
      "           z       0.00      0.00      0.00        86\n",
      "\n",
      "    accuracy                           0.53      5412\n",
      "   macro avg       0.19      0.25      0.21      5412\n",
      "weighted avg       0.42      0.53      0.46      5412\n",
      "\n"
     ]
    },
    {
     "name": "stderr",
     "output_type": "stream",
     "text": [
      "C:\\ProgramData\\Anaconda3\\lib\\site-packages\\sklearn\\metrics\\_classification.py:1221: UndefinedMetricWarning: Precision and F-score are ill-defined and being set to 0.0 in labels with no predicted samples. Use `zero_division` parameter to control this behavior.\n",
      "  _warn_prf(average, modifier, msg_start, len(result))\n",
      "C:\\ProgramData\\Anaconda3\\lib\\site-packages\\sklearn\\metrics\\_classification.py:1221: UndefinedMetricWarning: Precision and F-score are ill-defined and being set to 0.0 in labels with no predicted samples. Use `zero_division` parameter to control this behavior.\n",
      "  _warn_prf(average, modifier, msg_start, len(result))\n"
     ]
    }
   ],
   "source": [
    "#Decision Tree\n",
    "params={'random_state':0,'max_depth':4}\n",
    "classifier = DecisionTreeClassifier(**params)\n",
    "run_classifier(classifier, X_train, X_test, y_train, y_test, labels)"
   ]
  },
  {
   "cell_type": "markdown",
   "metadata": {},
   "source": [
    "# Numbers (0-9)"
   ]
  },
  {
   "cell_type": "markdown",
   "metadata": {},
   "source": [
    "* Try to do the same thing with numbers."
   ]
  },
  {
   "cell_type": "code",
   "execution_count": 54,
   "metadata": {},
   "outputs": [],
   "source": [
    "# Your code here\n",
    "df_numbers = data[data['e'] < 10]\n",
    "\n",
    "X = df_numbers.drop(columns = ['e'])\n",
    "y = df_numbers['e']\n",
    "\n",
    "X_train, X_test, y_train, y_test = train_test_split(X, y, test_size = .2)\n",
    "\n",
    "labels = np.sort(y.unique())"
   ]
  },
  {
   "cell_type": "code",
   "execution_count": 62,
   "metadata": {},
   "outputs": [
    {
     "name": "stdout",
     "output_type": "stream",
     "text": [
      "\n",
      "****************************************\n",
      "\n",
      " Classifier performance on Training dataset\n",
      "\n",
      "              precision    recall  f1-score   support\n",
      "\n",
      "         0.0       0.98      0.99      0.99      4688\n",
      "         1.0       0.96      1.00      0.98      5046\n",
      "         2.0       0.99      0.98      0.98      4659\n",
      "         3.0       0.97      0.99      0.98      4736\n",
      "         4.0       0.98      0.97      0.98      4485\n",
      "         5.0       0.99      0.98      0.98      4140\n",
      "         6.0       0.99      0.99      0.99      4576\n",
      "         7.0       0.97      0.98      0.98      4920\n",
      "         8.0       1.00      0.95      0.97      4535\n",
      "         9.0       0.98      0.97      0.97      4549\n",
      "\n",
      "    accuracy                           0.98     46334\n",
      "   macro avg       0.98      0.98      0.98     46334\n",
      "weighted avg       0.98      0.98      0.98     46334\n",
      "\n",
      "\n",
      "****************************************\n",
      "\n",
      " Classifier performance on Testing dataset\n",
      "\n",
      "              precision    recall  f1-score   support\n",
      "\n",
      "         0.0       0.97      0.99      0.98      1090\n",
      "         1.0       0.94      1.00      0.97      1284\n",
      "         2.0       0.99      0.96      0.97      1210\n",
      "         3.0       0.96      0.98      0.97      1233\n",
      "         4.0       0.98      0.96      0.97      1134\n",
      "         5.0       0.98      0.96      0.97      1050\n",
      "         6.0       0.98      0.99      0.98      1129\n",
      "         7.0       0.95      0.98      0.97      1219\n",
      "         8.0       0.99      0.93      0.96      1098\n",
      "         9.0       0.96      0.96      0.96      1137\n",
      "\n",
      "    accuracy                           0.97     11584\n",
      "   macro avg       0.97      0.97      0.97     11584\n",
      "weighted avg       0.97      0.97      0.97     11584\n",
      "\n"
     ]
    }
   ],
   "source": [
    "# K neighbor\n",
    "classifier = neighbors.KNeighborsClassifier()\n",
    "run_classifier(classifier, X_train, X_test, y_train, y_test, labels)"
   ]
  },
  {
   "cell_type": "code",
   "execution_count": 61,
   "metadata": {},
   "outputs": [
    {
     "name": "stdout",
     "output_type": "stream",
     "text": [
      "\n",
      "****************************************\n",
      "\n",
      " Classifier performance on Training dataset\n",
      "\n",
      "              precision    recall  f1-score   support\n",
      "\n",
      "         0.0       1.00      1.00      1.00      4688\n",
      "         1.0       0.99      0.99      0.99      5046\n",
      "         2.0       0.99      0.99      0.99      4659\n",
      "         3.0       0.96      0.98      0.97      4736\n",
      "         4.0       0.99      0.99      0.99      4485\n",
      "         5.0       0.97      0.95      0.96      4140\n",
      "         6.0       1.00      1.00      1.00      4576\n",
      "         7.0       0.99      0.97      0.98      4920\n",
      "         8.0       0.96      0.95      0.96      4535\n",
      "         9.0       0.96      0.98      0.97      4549\n",
      "\n",
      "    accuracy                           0.98     46334\n",
      "   macro avg       0.98      0.98      0.98     46334\n",
      "weighted avg       0.98      0.98      0.98     46334\n",
      "\n",
      "\n",
      "****************************************\n",
      "\n",
      " Classifier performance on Testing dataset\n",
      "\n",
      "              precision    recall  f1-score   support\n",
      "\n",
      "         0.0       0.96      0.94      0.95      1090\n",
      "         1.0       0.94      0.96      0.95      1284\n",
      "         2.0       0.93      0.91      0.92      1210\n",
      "         3.0       0.89      0.91      0.90      1233\n",
      "         4.0       0.93      0.91      0.92      1134\n",
      "         5.0       0.87      0.84      0.86      1050\n",
      "         6.0       0.97      0.96      0.96      1129\n",
      "         7.0       0.96      0.91      0.94      1219\n",
      "         8.0       0.83      0.86      0.84      1098\n",
      "         9.0       0.87      0.92      0.89      1137\n",
      "\n",
      "    accuracy                           0.91     11584\n",
      "   macro avg       0.91      0.91      0.91     11584\n",
      "weighted avg       0.91      0.91      0.91     11584\n",
      "\n"
     ]
    }
   ],
   "source": [
    "# OnevsOne\n",
    "classifier = OneVsOneClassifier(LinearSVC(random_state=0,max_iter=4000))\n",
    "run_classifier(classifier, X_train, X_test, y_train, y_test, labels)"
   ]
  },
  {
   "cell_type": "code",
   "execution_count": 55,
   "metadata": {},
   "outputs": [
    {
     "name": "stdout",
     "output_type": "stream",
     "text": [
      "\n",
      "****************************************\n",
      "\n",
      " Classifier performance on Training dataset\n",
      "\n",
      "              precision    recall  f1-score   support\n",
      "\n",
      "         0.0       0.88      0.93      0.90      4688\n",
      "         1.0       0.81      0.97      0.88      5046\n",
      "         2.0       0.91      0.81      0.86      4659\n",
      "         3.0       0.85      0.80      0.83      4736\n",
      "         4.0       0.87      0.87      0.87      4485\n",
      "         5.0       0.92      0.70      0.79      4140\n",
      "         6.0       0.82      0.89      0.85      4576\n",
      "         7.0       0.83      0.83      0.83      4920\n",
      "         8.0       0.81      0.60      0.69      4535\n",
      "         9.0       0.66      0.85      0.75      4549\n",
      "\n",
      "    accuracy                           0.83     46334\n",
      "   macro avg       0.84      0.83      0.82     46334\n",
      "weighted avg       0.84      0.83      0.83     46334\n",
      "\n",
      "\n",
      "****************************************\n",
      "\n",
      " Classifier performance on Testing dataset\n",
      "\n",
      "              precision    recall  f1-score   support\n",
      "\n",
      "         0.0       0.86      0.91      0.89      1090\n",
      "         1.0       0.82      0.97      0.89      1284\n",
      "         2.0       0.90      0.81      0.86      1210\n",
      "         3.0       0.85      0.81      0.83      1233\n",
      "         4.0       0.88      0.87      0.87      1134\n",
      "         5.0       0.94      0.68      0.79      1050\n",
      "         6.0       0.80      0.89      0.84      1129\n",
      "         7.0       0.85      0.85      0.85      1219\n",
      "         8.0       0.79      0.59      0.68      1098\n",
      "         9.0       0.67      0.86      0.76      1137\n",
      "\n",
      "    accuracy                           0.83     11584\n",
      "   macro avg       0.84      0.83      0.82     11584\n",
      "weighted avg       0.84      0.83      0.83     11584\n",
      "\n"
     ]
    }
   ],
   "source": [
    "# Random Forest\n",
    "classifier= RandomForestClassifier(n_estimators=100,max_depth=4, random_state=0)\n",
    "run_classifier(classifier, X_train, X_test, y_train, y_test, labels)"
   ]
  },
  {
   "cell_type": "code",
   "execution_count": 60,
   "metadata": {},
   "outputs": [
    {
     "name": "stdout",
     "output_type": "stream",
     "text": [
      "\n",
      "****************************************\n",
      "\n",
      " Classifier performance on Training dataset\n",
      "\n",
      "              precision    recall  f1-score   support\n",
      "\n",
      "         0.0       0.94      0.72      0.82      4688\n",
      "         1.0       0.83      0.90      0.87      5046\n",
      "         2.0       0.83      0.61      0.70      4659\n",
      "         3.0       0.68      0.53      0.60      4736\n",
      "         4.0       0.84      0.67      0.74      4485\n",
      "         5.0       0.45      0.74      0.56      4140\n",
      "         6.0       0.49      0.76      0.60      4576\n",
      "         7.0       0.78      0.75      0.77      4920\n",
      "         8.0       0.36      0.24      0.29      4535\n",
      "         9.0       0.64      0.70      0.67      4549\n",
      "\n",
      "    accuracy                           0.67     46334\n",
      "   macro avg       0.69      0.66      0.66     46334\n",
      "weighted avg       0.69      0.67      0.67     46334\n",
      "\n",
      "\n",
      "****************************************\n",
      "\n",
      " Classifier performance on Testing dataset\n",
      "\n",
      "              precision    recall  f1-score   support\n",
      "\n",
      "         0.0       0.92      0.70      0.79      1090\n",
      "         1.0       0.83      0.90      0.87      1284\n",
      "         2.0       0.82      0.58      0.68      1210\n",
      "         3.0       0.69      0.55      0.61      1233\n",
      "         4.0       0.86      0.66      0.74      1134\n",
      "         5.0       0.44      0.73      0.55      1050\n",
      "         6.0       0.48      0.76      0.59      1129\n",
      "         7.0       0.77      0.74      0.76      1219\n",
      "         8.0       0.33      0.23      0.27      1098\n",
      "         9.0       0.65      0.69      0.67      1137\n",
      "\n",
      "    accuracy                           0.66     11584\n",
      "   macro avg       0.68      0.65      0.65     11584\n",
      "weighted avg       0.68      0.66      0.66     11584\n",
      "\n"
     ]
    }
   ],
   "source": [
    "#Decision Tree\n",
    "params={'random_state':0,'max_depth':4}\n",
    "classifier = DecisionTreeClassifier(**params)\n",
    "run_classifier(classifier, X_train, X_test, y_train, y_test, labels)"
   ]
  },
  {
   "cell_type": "markdown",
   "metadata": {},
   "source": [
    "# Summary\n",
    "## Upper Case Letters\n",
    "Rankings of the best classification methods (best to worst):\n",
    "1. K- Neighbors Classifier (also the longest to run, ~30 minutes)\n",
    "2. OnevsOne (got 100% on the training set)\n",
    "3. Random Forest\n",
    "4. Decision Tree\n",
    "\n",
    "## Lower Case Letters\n",
    "1. K- Neighbors Classifier (also the longest to run, ~20 minutes)\n",
    "2. OnevsOne (scored almost 100% on the training set)\n",
    "3. Random Forest\n",
    "4. Decision Tree\n",
    "\n",
    "## Numbers (0-9)\n",
    "This one had the best overall results\n",
    "1. K- Neighbors Classifier (also the longest to run, over an hour)\n",
    "2. OnevsOne (scored almost 100% on the training set)\n",
    "3. Random Forest\n",
    "4. Decision Tree"
   ]
  },
  {
   "cell_type": "code",
   "execution_count": null,
   "metadata": {},
   "outputs": [],
   "source": []
  }
 ],
 "metadata": {
  "kernelspec": {
   "display_name": "Python 3",
   "language": "python",
   "name": "python3"
  },
  "language_info": {
   "codemirror_mode": {
    "name": "ipython",
    "version": 3
   },
   "file_extension": ".py",
   "mimetype": "text/x-python",
   "name": "python",
   "nbconvert_exporter": "python",
   "pygments_lexer": "ipython3",
   "version": "3.8.3"
  }
 },
 "nbformat": 4,
 "nbformat_minor": 2
}
